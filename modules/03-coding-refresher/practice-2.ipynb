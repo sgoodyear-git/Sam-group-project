{
  "cells": [
    {
      "cell_type": "markdown",
      "metadata": {
        "id": "lgfMoBOHWpce"
      },
      "source": [
        "# Coding Bootcamp II Practice"
      ]
    },
    {
      "cell_type": "code",
      "execution_count": 2,
      "metadata": {
        "id": "f6XZ8LmDWol9"
      },
      "outputs": [],
      "source": [
        "# use substring indexing to get the first 5 characters after (but not including) the first appearance of \"is\" in sentence\n",
        "sentence = \"This is USC.\""
      ]
    },
    {
      "cell_type": "code",
      "source": [
        "sentence[7:]"
      ],
      "metadata": {
        "colab": {
          "base_uri": "https://localhost:8080/",
          "height": 35
        },
        "id": "jB7LkTjQhjU-",
        "outputId": "8e1aee8b-b0d3-4a5d-bd38-a7dc53a64b7b"
      },
      "execution_count": 5,
      "outputs": [
        {
          "output_type": "execute_result",
          "data": {
            "text/plain": [
              "' USC.'"
            ],
            "application/vnd.google.colaboratory.intrinsic+json": {
              "type": "string"
            }
          },
          "metadata": {},
          "execution_count": 5
        }
      ]
    },
    {
      "cell_type": "code",
      "execution_count": null,
      "metadata": {
        "id": "wz8xhvl7WrO0"
      },
      "outputs": [],
      "source": [
        "# use substring indexing to get the first 5 characters before (but not including) the first appearance of \"is\" in sentence"
      ]
    },
    {
      "cell_type": "code",
      "source": [
        "sentence[:5]"
      ],
      "metadata": {
        "colab": {
          "base_uri": "https://localhost:8080/",
          "height": 35
        },
        "id": "0GUOnGSyhyqP",
        "outputId": "3ecb297a-ea2d-4977-d259-9004b2fd6f11"
      },
      "execution_count": 6,
      "outputs": [
        {
          "output_type": "execute_result",
          "data": {
            "text/plain": [
              "'This '"
            ],
            "application/vnd.google.colaboratory.intrinsic+json": {
              "type": "string"
            }
          },
          "metadata": {},
          "execution_count": 6
        }
      ]
    },
    {
      "cell_type": "code",
      "source": [
        "# use substring indexing to get the last 5 characters of the string from right to left, until (but not including) the first appearance of \"is\" in sentence"
      ],
      "metadata": {
        "id": "1nWnBA2HiBKo"
      },
      "execution_count": 7,
      "outputs": []
    },
    {
      "cell_type": "code",
      "source": [
        "sentence[-5:]"
      ],
      "metadata": {
        "colab": {
          "base_uri": "https://localhost:8080/",
          "height": 35
        },
        "id": "-wI4kArdiKT3",
        "outputId": "f8d834c0-a0a1-48ad-87fb-7d36bd578d09"
      },
      "execution_count": 9,
      "outputs": [
        {
          "output_type": "execute_result",
          "data": {
            "text/plain": [
              "' USC.'"
            ],
            "application/vnd.google.colaboratory.intrinsic+json": {
              "type": "string"
            }
          },
          "metadata": {},
          "execution_count": 9
        }
      ]
    },
    {
      "cell_type": "code",
      "execution_count": null,
      "metadata": {
        "id": "fbkp3Hk7YZC3"
      },
      "outputs": [],
      "source": [
        "# write a for loop that counts down from 10 to 1, printing each number as it goes"
      ]
    },
    {
      "cell_type": "code",
      "metadata": {
        "colab": {
          "base_uri": "https://localhost:8080/"
        },
        "id": "2011a9ae",
        "outputId": "27c9384a-8be7-4ec4-e26b-874853352479"
      },
      "source": [
        "for i in range(10, 0, -1):\n",
        "  print(i)"
      ],
      "execution_count": 62,
      "outputs": [
        {
          "output_type": "stream",
          "name": "stdout",
          "text": [
            "10\n",
            "9\n",
            "8\n",
            "7\n",
            "6\n",
            "5\n",
            "4\n",
            "3\n",
            "2\n",
            "1\n"
          ]
        }
      ]
    },
    {
      "cell_type": "code",
      "source": [
        "for number in range(10):\n",
        "  print(number+1)"
      ],
      "metadata": {
        "colab": {
          "base_uri": "https://localhost:8080/"
        },
        "id": "TRa_rAdEimKG",
        "outputId": "29a6491a-5d95-419e-c37d-67394630e984"
      },
      "execution_count": 66,
      "outputs": [
        {
          "output_type": "stream",
          "name": "stdout",
          "text": [
            "1\n",
            "2\n",
            "3\n",
            "4\n",
            "5\n",
            "6\n",
            "7\n",
            "8\n",
            "9\n",
            "10\n"
          ]
        }
      ]
    },
    {
      "cell_type": "code",
      "execution_count": null,
      "metadata": {
        "id": "QGL7DWtkYcKI"
      },
      "outputs": [],
      "source": [
        "# explain: why does the first line work, but the second line throw an error?\n",
        "# 2 + 2 == 4\n",
        "# 2 + 2 = 4"
      ]
    },
    {
      "cell_type": "code",
      "source": [
        "# because the first statement is a true/false, when the second is meant to assign a value to something and will not print back the value assigned. that is not how to do a math equation in python"
      ],
      "metadata": {
        "id": "ZoaBDxgrio9r"
      },
      "execution_count": 11,
      "outputs": []
    },
    {
      "cell_type": "code",
      "execution_count": null,
      "metadata": {
        "id": "LmUN979EYlFQ"
      },
      "outputs": [],
      "source": [
        "# loop through the first 20 integers and print True if the number 80 is evenly divisible by each integer, otherwise False"
      ]
    },
    {
      "cell_type": "code",
      "source": [
        "for i in range(20):\n",
        "  print(i)\n",
        "\n",
        "  if i % 80 == 0:\n",
        "    print(\"true\")\n",
        "  else:\n",
        "   print(\"false\")\n"
      ],
      "metadata": {
        "colab": {
          "base_uri": "https://localhost:8080/"
        },
        "id": "WuAW0Ijcqrbq",
        "outputId": "77d15209-1013-4572-a174-59771816706e"
      },
      "execution_count": 95,
      "outputs": [
        {
          "output_type": "stream",
          "name": "stdout",
          "text": [
            "0\n",
            "true\n",
            "1\n",
            "false\n",
            "2\n",
            "false\n",
            "3\n",
            "false\n",
            "4\n",
            "false\n",
            "5\n",
            "false\n",
            "6\n",
            "false\n",
            "7\n",
            "false\n",
            "8\n",
            "false\n",
            "9\n",
            "false\n",
            "10\n",
            "false\n",
            "11\n",
            "false\n",
            "12\n",
            "false\n",
            "13\n",
            "false\n",
            "14\n",
            "false\n",
            "15\n",
            "false\n",
            "16\n",
            "false\n",
            "17\n",
            "false\n",
            "18\n",
            "false\n",
            "19\n",
            "false\n"
          ]
        }
      ]
    },
    {
      "cell_type": "code",
      "source": [],
      "metadata": {
        "id": "d5k4GaAzqbLa"
      },
      "execution_count": null,
      "outputs": []
    },
    {
      "cell_type": "code",
      "execution_count": null,
      "metadata": {
        "id": "Ma-g3K_rYyoM"
      },
      "outputs": [],
      "source": [
        "# loop through the numbers 1 through 15, using modulo to print 'even' if each is evenly divisible by 2, and 'odd' if not"
      ]
    },
    {
      "cell_type": "code",
      "source": [
        "for number in range(15):\n",
        "  print(number)\n",
        "\n",
        "  if number % 2 ==0:\n",
        "    print(\"even\")\n",
        "  else:\n",
        "    print(\"odd\")"
      ],
      "metadata": {
        "id": "ckt-Ehx1sRAV",
        "outputId": "d2bbdd43-fdcc-47ac-c4eb-1f644097f55b",
        "colab": {
          "base_uri": "https://localhost:8080/"
        }
      },
      "execution_count": 96,
      "outputs": [
        {
          "output_type": "stream",
          "name": "stdout",
          "text": [
            "0\n",
            "even\n",
            "1\n",
            "odd\n",
            "2\n",
            "even\n",
            "3\n",
            "odd\n",
            "4\n",
            "even\n",
            "5\n",
            "odd\n",
            "6\n",
            "even\n",
            "7\n",
            "odd\n",
            "8\n",
            "even\n",
            "9\n",
            "odd\n",
            "10\n",
            "even\n",
            "11\n",
            "odd\n",
            "12\n",
            "even\n",
            "13\n",
            "odd\n",
            "14\n",
            "even\n"
          ]
        }
      ]
    },
    {
      "cell_type": "code",
      "execution_count": null,
      "metadata": {
        "id": "8NE29ROaYzIW"
      },
      "outputs": [],
      "source": [
        "# write a function that accepts 2 arguments and uses modulo to return True if the first is evenly divisible by the second, and False if not"
      ]
    },
    {
      "cell_type": "code",
      "source": [
        "x = 20\n",
        "y = 5\n",
        "if x % y == 0:\n",
        "  print(\"true\")\n",
        "else:\n",
        "  Print(\"false\")"
      ],
      "metadata": {
        "colab": {
          "base_uri": "https://localhost:8080/"
        },
        "id": "-T7-Z99JkEha",
        "outputId": "89467c2d-a664-4018-b13b-417dd907075d"
      },
      "execution_count": 24,
      "outputs": [
        {
          "output_type": "stream",
          "name": "stdout",
          "text": [
            "true\n"
          ]
        }
      ]
    },
    {
      "cell_type": "code",
      "execution_count": null,
      "metadata": {
        "id": "51RbYXf9Y17Q"
      },
      "outputs": [],
      "source": [
        "# write a function that prints all the numbers between 0 and some argument called n"
      ]
    },
    {
      "cell_type": "code",
      "source": [
        "n = 10\n",
        "print(list(0, n))"
      ],
      "metadata": {
        "colab": {
          "base_uri": "https://localhost:8080/"
        },
        "id": "SfG5dtKnlfcb",
        "outputId": "0d285d09-5af5-446a-842a-5ebf20b2016f"
      },
      "execution_count": 32,
      "outputs": [
        {
          "output_type": "stream",
          "name": "stdout",
          "text": [
            "[0, 1, 2, 3, 4, 5, 6, 7, 8, 9]\n"
          ]
        }
      ]
    },
    {
      "cell_type": "code",
      "source": [
        "range(n)"
      ],
      "metadata": {
        "colab": {
          "base_uri": "https://localhost:8080/"
        },
        "id": "_uJh-H-bl6LP",
        "outputId": "bae4f6af-eeaa-46d6-a962-4efb5cf24787"
      },
      "execution_count": 33,
      "outputs": [
        {
          "output_type": "execute_result",
          "data": {
            "text/plain": [
              "range(0, 10)"
            ]
          },
          "metadata": {},
          "execution_count": 33
        }
      ]
    },
    {
      "cell_type": "code",
      "source": [
        "list(range(n))"
      ],
      "metadata": {
        "colab": {
          "base_uri": "https://localhost:8080/"
        },
        "id": "MGRAL-kyl8S7",
        "outputId": "99dad4cf-1894-4eac-e6fd-8846f5ff6407"
      },
      "execution_count": 34,
      "outputs": [
        {
          "output_type": "execute_result",
          "data": {
            "text/plain": [
              "[0, 1, 2, 3, 4, 5, 6, 7, 8, 9]"
            ]
          },
          "metadata": {},
          "execution_count": 34
        }
      ]
    },
    {
      "cell_type": "code",
      "source": [
        "list(range(n+1))"
      ],
      "metadata": {
        "colab": {
          "base_uri": "https://localhost:8080/"
        },
        "id": "VtM840L9mDgo",
        "outputId": "35c0b132-8cbd-4f38-aac9-d8c19a781c66"
      },
      "execution_count": 35,
      "outputs": [
        {
          "output_type": "execute_result",
          "data": {
            "text/plain": [
              "[0, 1, 2, 3, 4, 5, 6, 7, 8, 9, 10]"
            ]
          },
          "metadata": {},
          "execution_count": 35
        }
      ]
    },
    {
      "cell_type": "code",
      "execution_count": null,
      "metadata": {
        "id": "OsPE2Ud8ZR_w"
      },
      "outputs": [],
      "source": []
    }
  ],
  "metadata": {
    "colab": {
      "provenance": []
    },
    "kernelspec": {
      "display_name": "Python 3",
      "name": "python3"
    },
    "language_info": {
      "name": "python"
    }
  },
  "nbformat": 4,
  "nbformat_minor": 0
}