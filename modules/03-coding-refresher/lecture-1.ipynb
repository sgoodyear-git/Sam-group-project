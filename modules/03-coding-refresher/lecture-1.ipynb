{
  "cells": [
    {
      "cell_type": "markdown",
      "metadata": {
        "id": "qLiNu7icPsKK"
      },
      "source": [
        "# Coding Bootcamp I"
      ]
    },
    {
      "cell_type": "markdown",
      "metadata": {
        "id": "15tGKMEFPsKL"
      },
      "source": [
        "## The Jupyter Notebook"
      ]
    },
    {
      "cell_type": "markdown",
      "metadata": {
        "id": "8z41RVImPsKM"
      },
      "source": [
        "Today we will cover the basics of Python, and introduce elements that will help you get familiar with Python as an interactive computational environment for exploring data.  The material is presented in an interactive environment that runs within your web browser, called a notebook. It allows presentation of text and graphics to be combined with Python code that can be run interactively, with the results appearing inline. We are looking at a notebook now.\n",
        "\n",
        "Python is an interpreted programming language, also referred to as a *high-level language* or as a scripting language. What this means is that when you write commands, or code that is meaningful in the Python language, the Python \"interpreter\" reads the command, figures out what the intended computation is, and then executes it. This differs from *low-level* languages like C or C++, in which you generally have to compile code  before you can run it, and if you find errors they have to be diagnosed and then the code re-compiled before you can run it. Interpreted languages skip the compile step, and just execute code directly, and if there are errors, they are seen at run-time.\n",
        "\n",
        "Pretty, pretty, pretty, pretty good."
      ]
    },
    {
      "cell_type": "markdown",
      "metadata": {
        "id": "mmTqQ672PsKM"
      },
      "source": [
        "## Python Environments"
      ]
    },
    {
      "cell_type": "markdown",
      "metadata": {
        "id": "rFgFmRfPPsKM"
      },
      "source": [
        "There are several ways to work with Python code:\n",
        "1. Starting Python at the command line, by typing 'python' at the command prompt\n",
        "1. Running a Python script file (.py)\n",
        "1. The way we will generally interact with Python is through Jupyter notebooks, a handy interface that runs in your web browser.  This is the environment you are looking at now, with a mixture of headings, text, and code embedded in an Python Notebook.\n",
        "\n",
        "\n",
        "## Writing Code\n",
        "\n",
        "In a jupyter notebook cell, hit Shift + Enter to run it and move to the next cell, or Ctrl + Enter to run it and stay on the same cell.\n",
        "\n",
        "The first programming command demonstrated when you are learning a programming language is usually to make the computer print 'Hello World!'.  In Python, doing this is pretty simple:"
      ]
    },
    {
      "cell_type": "markdown",
      "source": [
        "# Q: how can you tell in these lectures when oyu're referencing a pre-assigned variable or when you're using soemthing as a filler statemtn (x, n, word, etc.) or when it is an actual function of the code ( for 'word' in sentence.split- lecture 2) - sam"
      ],
      "metadata": {
        "id": "lJSI_sd6nP5R"
      }
    },
    {
      "cell_type": "code",
      "execution_count": null,
      "metadata": {
        "id": "mrpfNTQuPsKM",
        "jupyter": {
          "outputs_hidden": false
        }
      },
      "outputs": [],
      "source": [
        "print(\"Hello World!\")"
      ]
    },
    {
      "cell_type": "code",
      "execution_count": null,
      "metadata": {
        "id": "EoOhJ4v8PsKN"
      },
      "outputs": [],
      "source": [
        "# this is a comment. the python interpreter ignores it.\n",
        "# comments are just notes for humans to read to help understand the code\n",
        "# best practice: add a comment for every couple lines of code to explain what's going on and why\n",
        "# you'd be amazed at how quickly you forget your code's logic (at least i always do)"
      ]
    },
    {
      "cell_type": "markdown",
      "metadata": {
        "id": "mqlwJiSkPsKN"
      },
      "source": [
        "## The Notebook Interface\n",
        "\n",
        "Practicing working with the user interface by doing the following together:\n",
        "\n",
        "  1. Add a new code cell below this one.\n",
        "  2. Move it up.\n",
        "  3. Add a new text cell and type some text into it.\n",
        "  4. Cut it to delete it.\n",
        "  5. Edit > undo that cell operation.\n",
        "  6. Save the notebook file.\n",
        "  7. Restart the kernel and clear all outputs (under \"runtime\" and \"edit\" menus).\n",
        "  8. Run all cells up to this one.\n",
        "  \n",
        "Now repeat those steps by yourself to make sure you've got it all straight."
      ]
    },
    {
      "cell_type": "markdown",
      "metadata": {
        "id": "Z6cvRXm9PsKN"
      },
      "source": [
        "## Math in Python\n",
        "\n",
        "using mathematical operators"
      ]
    },
    {
      "cell_type": "code",
      "execution_count": null,
      "metadata": {
        "id": "byVu7106PsKN",
        "jupyter": {
          "outputs_hidden": false
        }
      },
      "outputs": [],
      "source": [
        "# add two integers\n",
        "1 + 1"
      ]
    },
    {
      "cell_type": "code",
      "execution_count": null,
      "metadata": {
        "id": "abMVx1wQPsKN",
        "jupyter": {
          "outputs_hidden": false
        }
      },
      "outputs": [],
      "source": [
        "# multiply two integers\n",
        "2 * 3"
      ]
    },
    {
      "cell_type": "code",
      "execution_count": null,
      "metadata": {
        "id": "9KRa52uUPsKN",
        "jupyter": {
          "outputs_hidden": false
        }
      },
      "outputs": [],
      "source": [
        "# spaces don't matter here, but keep them consistent for readability (...and they will matter momentarily)\n",
        "2 * 3"
      ]
    },
    {
      "cell_type": "code",
      "execution_count": null,
      "metadata": {
        "id": "n31K3XyNPsKN",
        "jupyter": {
          "outputs_hidden": false
        }
      },
      "outputs": [],
      "source": [
        "# divide two integers\n",
        "10 / 5"
      ]
    },
    {
      "cell_type": "code",
      "execution_count": null,
      "metadata": {
        "id": "hjydVhqoPsKN",
        "jupyter": {
          "outputs_hidden": false
        }
      },
      "outputs": [],
      "source": [
        "# raise 2 to the 4th power\n",
        "2**4"
      ]
    },
    {
      "cell_type": "code",
      "execution_count": null,
      "metadata": {
        "id": "HOnwrgFCPsKO",
        "jupyter": {
          "outputs_hidden": false
        }
      },
      "outputs": [],
      "source": [
        "# take the square root of 9 (by raising it to the power of 0.5). notice the order of operations.\n",
        "9 ** (1 / 2)"
      ]
    },
    {
      "cell_type": "code",
      "execution_count": null,
      "metadata": {
        "id": "nkYcFRI8PsKO"
      },
      "outputs": [],
      "source": [
        "# now you try\n",
        "# in a single line, divide the sum of ninety plus seventy by the product of twelve and eleven"
      ]
    },
    {
      "cell_type": "markdown",
      "metadata": {
        "id": "Lt_Ou01nPsKO"
      },
      "source": [
        "## Working with variables"
      ]
    },
    {
      "cell_type": "code",
      "execution_count": null,
      "metadata": {
        "id": "yKu7_cexPsKO",
        "jupyter": {
          "outputs_hidden": false
        }
      },
      "outputs": [],
      "source": [
        "# variables, such as x here, contain values and their values can vary\n",
        "x = 5"
      ]
    },
    {
      "cell_type": "code",
      "execution_count": null,
      "metadata": {
        "id": "uB83N6N0PsKO",
        "jupyter": {
          "outputs_hidden": false
        }
      },
      "outputs": [],
      "source": [
        "# what is the value of x?\n",
        "x"
      ]
    },
    {
      "cell_type": "code",
      "execution_count": null,
      "metadata": {
        "id": "8dBCHO2uPsKO",
        "jupyter": {
          "outputs_hidden": false
        }
      },
      "outputs": [],
      "source": [
        "# you can perform operations on variables, just like you can on two numbers\n",
        "x + 3"
      ]
    },
    {
      "cell_type": "code",
      "execution_count": null,
      "metadata": {
        "id": "qqamtgtqPsKP",
        "jupyter": {
          "outputs_hidden": false
        }
      },
      "outputs": [],
      "source": [
        "# what is the value of x now?\n",
        "x"
      ]
    },
    {
      "cell_type": "code",
      "execution_count": null,
      "metadata": {
        "id": "dTwMTwo8PsKP",
        "jupyter": {
          "outputs_hidden": false
        }
      },
      "outputs": [],
      "source": [
        "# to update the value of a variable, you need to do an assignment again\n",
        "x = x + 3"
      ]
    },
    {
      "cell_type": "code",
      "execution_count": null,
      "metadata": {
        "id": "u43vuMbYPsKP",
        "jupyter": {
          "outputs_hidden": false
        }
      },
      "outputs": [],
      "source": [
        "# and now what is the value of x?\n",
        "x"
      ]
    },
    {
      "cell_type": "code",
      "execution_count": null,
      "metadata": {
        "id": "lFBKiG9zPsKP",
        "jupyter": {
          "outputs_hidden": false
        }
      },
      "outputs": [],
      "source": [
        "# create a new variable y from an operation on x\n",
        "x = 5\n",
        "y = x * 2\n",
        "y"
      ]
    },
    {
      "cell_type": "code",
      "execution_count": null,
      "metadata": {
        "id": "4zVXWdQoPsKP",
        "jupyter": {
          "outputs_hidden": false
        }
      },
      "outputs": [],
      "source": [
        "# outputting values only displays the last thing output\n",
        "# this is different from printing! it is kinda confusing!\n",
        "x\n",
        "y"
      ]
    },
    {
      "cell_type": "code",
      "execution_count": null,
      "metadata": {
        "id": "YcEMwlRTPsKP",
        "jupyter": {
          "outputs_hidden": false
        }
      },
      "outputs": [],
      "source": [
        "# use print to write some value(s) to the \"console\"\n",
        "print(x)\n",
        "print(y)"
      ]
    },
    {
      "cell_type": "code",
      "execution_count": null,
      "metadata": {
        "id": "_DwCsaaYPsKP",
        "jupyter": {
          "outputs_hidden": false
        }
      },
      "outputs": [],
      "source": [
        "# you can comma-separate values to print multiple values to the console on one line\n",
        "print(x, y)"
      ]
    },
    {
      "cell_type": "code",
      "execution_count": null,
      "metadata": {
        "id": "mp6ie-xjPsKP",
        "jupyter": {
          "outputs_hidden": false
        }
      },
      "outputs": [],
      "source": [
        "# you can also print the result of an expression\n",
        "print(x * y)"
      ]
    },
    {
      "cell_type": "code",
      "execution_count": null,
      "metadata": {
        "id": "G5cBgsQ1PsKP"
      },
      "outputs": [],
      "source": [
        "# now it's your turn\n",
        "# in a single line, create a new variable z and set it equal to x divided the sum of x plus y"
      ]
    },
    {
      "cell_type": "markdown",
      "metadata": {
        "id": "pnVOS41WPsKQ"
      },
      "source": [
        "## Getting help"
      ]
    },
    {
      "cell_type": "code",
      "execution_count": null,
      "metadata": {
        "id": "aB08-P-GPsKQ",
        "jupyter": {
          "outputs_hidden": false
        }
      },
      "outputs": [],
      "source": [
        "# ask ipython for it by using '?'\n",
        "len?"
      ]
    },
    {
      "cell_type": "code",
      "execution_count": null,
      "metadata": {
        "id": "BGiG-odMPsKQ",
        "jupyter": {
          "outputs_hidden": false
        }
      },
      "outputs": [],
      "source": [
        "# use tab-completion to fill in the rest of statements, functions, methods\n",
        "prin"
      ]
    },
    {
      "cell_type": "code",
      "execution_count": null,
      "metadata": {
        "id": "10NORonLPsKQ",
        "jupyter": {
          "outputs_hidden": false
        }
      },
      "outputs": [],
      "source": [
        "# tab-completion also works with variables you have created (ie, a variable in memory)\n",
        "number_of_students = 10"
      ]
    },
    {
      "cell_type": "code",
      "execution_count": null,
      "metadata": {
        "id": "4vGj1P9aPsKQ",
        "jupyter": {
          "outputs_hidden": false
        }
      },
      "outputs": [],
      "source": [
        "numbe"
      ]
    },
    {
      "cell_type": "code",
      "execution_count": null,
      "metadata": {
        "id": "u84JISyoPsKQ",
        "jupyter": {
          "outputs_hidden": false
        }
      },
      "outputs": [],
      "source": [
        "# what about errors? you can't divide by zero...\n",
        "12 / 0"
      ]
    },
    {
      "cell_type": "markdown",
      "metadata": {
        "id": "8ccYeqGXPsKQ"
      },
      "source": [
        "How do you read that \"traceback\" message?\n",
        "\n",
        "For syntax errors or how to do something, Google it! (This is literally 90% of my job...)\n",
        "\n",
        "Also, StackOverflow is a particularly good site for code snippets and troubleshooting: https://stackoverflow.com/"
      ]
    },
    {
      "cell_type": "markdown",
      "metadata": {
        "id": "alCqOGwePsKQ"
      },
      "source": [
        "## Basic data types"
      ]
    },
    {
      "cell_type": "markdown",
      "metadata": {
        "id": "vZ4eIR_KPsKQ"
      },
      "source": [
        "Data in Python is interpreted as having a **type**.  In low-level, compiled languages like C or C++, the programmer has to explicitly declare the type of each variable before actually using it.  In Python, the type is inferred at run time, and you can always ask Python what the type of an object is:"
      ]
    },
    {
      "cell_type": "code",
      "execution_count": null,
      "metadata": {
        "id": "TYS6eKiOPsKQ",
        "jupyter": {
          "outputs_hidden": false
        }
      },
      "outputs": [],
      "source": [
        "# integers are whole numbers\n",
        "int"
      ]
    },
    {
      "cell_type": "code",
      "execution_count": null,
      "metadata": {
        "id": "ueXttL-uPsKQ",
        "jupyter": {
          "outputs_hidden": false
        }
      },
      "outputs": [],
      "source": [
        "# every variable has a data type, and they can be of any type\n",
        "x = 125\n",
        "type(x)"
      ]
    },
    {
      "cell_type": "code",
      "execution_count": null,
      "metadata": {
        "id": "DdwvAnXAPsKR"
      },
      "outputs": [],
      "source": [
        "isinstance(x, int)"
      ]
    },
    {
      "cell_type": "code",
      "execution_count": null,
      "metadata": {
        "id": "fvXLinJsPsKR",
        "jupyter": {
          "outputs_hidden": false
        }
      },
      "outputs": [],
      "source": [
        "# float is a floating point (aka decimal) number\n",
        "some_rate = 4.3\n",
        "type(some_rate)"
      ]
    },
    {
      "cell_type": "code",
      "execution_count": null,
      "metadata": {
        "id": "bfpu2EM2PsKR"
      },
      "outputs": [],
      "source": [
        "isinstance(some_rate, int)"
      ]
    },
    {
      "cell_type": "code",
      "execution_count": null,
      "metadata": {
        "id": "8ccD1FCaPsKS"
      },
      "outputs": [],
      "source": [
        "# you can change a variable's type by re-assigning it\n",
        "some_rate = 125\n",
        "isinstance(some_rate, int)"
      ]
    },
    {
      "cell_type": "code",
      "execution_count": null,
      "metadata": {
        "id": "42OmaoNpPsKS",
        "jupyter": {
          "outputs_hidden": false
        }
      },
      "outputs": [],
      "source": [
        "# strings are \"strings\" of characters\n",
        "s = \"abc\"\n",
        "type(s)"
      ]
    },
    {
      "cell_type": "code",
      "execution_count": null,
      "metadata": {
        "id": "ITmBXI8WPsKS",
        "jupyter": {
          "outputs_hidden": false
        }
      },
      "outputs": [],
      "source": [
        "# a list is a collection of elements denoted by square brackets\n",
        "# it knows it's a list because of those brackets\n",
        "my_list = [1, 2, 3, 4]\n",
        "my_list"
      ]
    },
    {
      "cell_type": "code",
      "execution_count": null,
      "metadata": {
        "id": "Rcugg9FKPsKS",
        "jupyter": {
          "outputs_hidden": false
        }
      },
      "outputs": [],
      "source": [
        "type(my_list)"
      ]
    },
    {
      "cell_type": "code",
      "execution_count": null,
      "metadata": {
        "id": "gTBF9Kw0PsKS",
        "jupyter": {
          "outputs_hidden": false
        }
      },
      "outputs": [],
      "source": [
        "# a dictionary is a collection of key:value pairs, denoted by curly braces\n",
        "person = {\"first_name\": \"Geoff\", \"last_name\": \"Boeing\"}\n",
        "person"
      ]
    },
    {
      "cell_type": "code",
      "execution_count": null,
      "metadata": {
        "id": "CA_TcUyPPsKS",
        "jupyter": {
          "outputs_hidden": false
        }
      },
      "outputs": [],
      "source": [
        "type(person)"
      ]
    },
    {
      "cell_type": "code",
      "execution_count": null,
      "metadata": {
        "id": "1CKfXhdsPsKS"
      },
      "outputs": [],
      "source": [
        "# now you try\n",
        "# create a new dict variable containing the individual components of your home address"
      ]
    },
    {
      "cell_type": "markdown",
      "metadata": {
        "id": "4_6SrY94PsKS"
      },
      "source": [
        "## Working with data types"
      ]
    },
    {
      "cell_type": "code",
      "execution_count": null,
      "metadata": {
        "id": "LgRXE8wBPsKT",
        "jupyter": {
          "outputs_hidden": false
        }
      },
      "outputs": [],
      "source": [
        "# divide 2 integers\n",
        "num1 = 8\n",
        "num2 = 5\n",
        "num1 / num2"
      ]
    },
    {
      "cell_type": "code",
      "execution_count": null,
      "metadata": {
        "id": "2mcQ4p1cPsKT",
        "jupyter": {
          "outputs_hidden": false
        }
      },
      "outputs": [],
      "source": [
        "# divide 2 integers (produces a float result consistently)\n",
        "num1 = 10\n",
        "num2 = 5\n",
        "num1 / num2"
      ]
    },
    {
      "cell_type": "code",
      "execution_count": null,
      "metadata": {
        "id": "ZpcDnhKvPsKT",
        "jupyter": {
          "outputs_hidden": false
        }
      },
      "outputs": [],
      "source": [
        "# check the data types as we go along by printing them\n",
        "# very useful for tracking progress as your code runs!\n",
        "num1 = 8.0\n",
        "print(type(num1))\n",
        "\n",
        "num2 = 5\n",
        "print(type(num2))\n",
        "\n",
        "num3 = num1 / num2\n",
        "print(type(num3))\n",
        "\n",
        "num3"
      ]
    },
    {
      "cell_type": "markdown",
      "metadata": {
        "id": "Dv2P6xN9PsKT"
      },
      "source": [
        "## Strings"
      ]
    },
    {
      "cell_type": "code",
      "execution_count": 1,
      "metadata": {
        "id": "zVwOtaAHPsKT",
        "jupyter": {
          "outputs_hidden": false
        },
        "outputId": "cbb0162b-4116-4515-dcbf-56141bab0fb6",
        "colab": {
          "base_uri": "https://localhost:8080/"
        }
      },
      "outputs": [
        {
          "output_type": "stream",
          "name": "stdout",
          "text": [
            "Los Angeles, CA 90089\n"
          ]
        }
      ],
      "source": [
        "# some of the operators we saw earlier work on strings\n",
        "city = \"Los Angeles\"\n",
        "sep = \", \"\n",
        "state = \"CA\"\n",
        "zip_code = \"90089\"\n",
        "\n",
        "# you can \"concatenate\" strings with the + operator\n",
        "location = city + sep + state + \" \" + zip_code\n",
        "print(location)"
      ]
    },
    {
      "cell_type": "code",
      "execution_count": null,
      "metadata": {
        "id": "cZfYOWUHPsKT",
        "jupyter": {
          "outputs_hidden": false
        }
      },
      "outputs": [],
      "source": [
        "# error (uncomment line below to see it)\n",
        "# zip_code = 02115"
      ]
    },
    {
      "cell_type": "code",
      "execution_count": null,
      "metadata": {
        "id": "liZeGuCuPsKU"
      },
      "outputs": [],
      "source": [
        "# the zip code 02115 isn't actually a number, it's a string of numeric characters\n",
        "# important to remember! zip codes aren't numeric, they are strings!\n",
        "zip_code = \"02115\""
      ]
    },
    {
      "cell_type": "code",
      "execution_count": null,
      "metadata": {
        "id": "p_qEn_FdPsKU",
        "jupyter": {
          "outputs_hidden": false
        }
      },
      "outputs": [],
      "source": [
        "# multiplying a string just duplicates it\n",
        "zip_code * 3"
      ]
    },
    {
      "cell_type": "code",
      "execution_count": 2,
      "metadata": {
        "id": "b1s2PMvaPsKU",
        "jupyter": {
          "outputs_hidden": false
        },
        "outputId": "68796a77-0f86-4b3f-a982-fa1fc155a1b9",
        "colab": {
          "base_uri": "https://localhost:8080/",
          "height": 52
        }
      },
      "outputs": [
        {
          "output_type": "stream",
          "name": "stdout",
          "text": [
            "Los Angeles, CA 90089\n"
          ]
        },
        {
          "output_type": "execute_result",
          "data": {
            "text/plain": [
              "'L'"
            ],
            "application/vnd.google.colaboratory.intrinsic+json": {
              "type": "string"
            }
          },
          "metadata": {},
          "execution_count": 2
        }
      ],
      "source": [
        "# you can get the nth element from an iterable object (like a string) with [n] indexing notation\n",
        "# remember, in Python the index starts with zero not one\n",
        "print(location)\n",
        "location[0]"
      ]
    },
    {
      "cell_type": "code",
      "execution_count": null,
      "metadata": {
        "id": "EKRuizt4PsKU"
      },
      "outputs": [],
      "source": [
        "print(location[0])\n",
        "print(location[1])\n",
        "print(location[2])"
      ]
    },
    {
      "cell_type": "code",
      "execution_count": null,
      "metadata": {
        "id": "IL-bkmiOPsKU",
        "jupyter": {
          "outputs_hidden": false
        }
      },
      "outputs": [],
      "source": [
        "# how many characters are in this string? use len function\n",
        "len(location)"
      ]
    },
    {
      "cell_type": "code",
      "execution_count": null,
      "metadata": {
        "id": "KU-s6Hw9PsKU",
        "jupyter": {
          "outputs_hidden": false
        }
      },
      "outputs": [],
      "source": [
        "# get a substring from some position up to but not including a second position\n",
        "location[4:7]"
      ]
    },
    {
      "cell_type": "code",
      "execution_count": null,
      "metadata": {
        "id": "TRCg-2f0PsKU",
        "jupyter": {
          "outputs_hidden": false
        }
      },
      "outputs": [],
      "source": [
        "# get the first n characters from the string\n",
        "location[:5]"
      ]
    },
    {
      "cell_type": "code",
      "execution_count": null,
      "metadata": {
        "id": "mJztlJ0NPsKV",
        "jupyter": {
          "outputs_hidden": false
        }
      },
      "outputs": [],
      "source": [
        "# get the characters from the string after the nth position\n",
        "location[5:]"
      ]
    },
    {
      "cell_type": "code",
      "execution_count": null,
      "metadata": {
        "id": "XEdSISkWPsKV"
      },
      "outputs": [],
      "source": [
        "# get the final n characters from the string\n",
        "location[-8:]"
      ]
    },
    {
      "cell_type": "code",
      "execution_count": null,
      "metadata": {
        "id": "xrtEsociPsKV",
        "jupyter": {
          "outputs_hidden": false
        }
      },
      "outputs": [],
      "source": [
        "# you can replace characters in a string with the replace() method\n",
        "location.replace(\"e\", \"E\")"
      ]
    },
    {
      "cell_type": "code",
      "execution_count": null,
      "metadata": {
        "id": "gB1EnkktPsKV"
      },
      "outputs": [],
      "source": [
        "# now it's your turn\n",
        "# create a new string from the 1st, 3rd, and 5th characters in location"
      ]
    },
    {
      "cell_type": "markdown",
      "metadata": {
        "id": "hFrReZNnPsKV"
      },
      "source": [
        "## Converting between types"
      ]
    },
    {
      "cell_type": "code",
      "execution_count": null,
      "metadata": {
        "id": "FUv3WI4sPsKV",
        "jupyter": {
          "outputs_hidden": false
        }
      },
      "outputs": [],
      "source": [
        "zip_code"
      ]
    },
    {
      "cell_type": "code",
      "execution_count": null,
      "metadata": {
        "id": "AJTCBPUbPsKV",
        "jupyter": {
          "outputs_hidden": false
        }
      },
      "outputs": [],
      "source": [
        "# you can convert between data types\n",
        "type(zip_code)"
      ]
    },
    {
      "cell_type": "code",
      "execution_count": null,
      "metadata": {
        "id": "vxwApbRbPsKV",
        "jupyter": {
          "outputs_hidden": false
        }
      },
      "outputs": [],
      "source": [
        "# convert the zip code string to an integer\n",
        "zip_code = int(zip_code)\n",
        "zip_code"
      ]
    },
    {
      "cell_type": "code",
      "execution_count": null,
      "metadata": {
        "id": "B7FpCksmPsKW",
        "jupyter": {
          "outputs_hidden": false
        }
      },
      "outputs": [],
      "source": [
        "type(zip_code)"
      ]
    },
    {
      "cell_type": "code",
      "execution_count": null,
      "metadata": {
        "id": "e16aFaW4PsKW",
        "jupyter": {
          "outputs_hidden": false
        }
      },
      "outputs": [],
      "source": [
        "# the math works better now\n",
        "zip_code * 2"
      ]
    },
    {
      "cell_type": "code",
      "execution_count": null,
      "metadata": {
        "id": "6HvcmO3cPsKW",
        "jupyter": {
          "outputs_hidden": false
        }
      },
      "outputs": [],
      "source": [
        "x = 3\n",
        "print(x * 2)\n",
        "y = str(x)\n",
        "print(y * 2)"
      ]
    },
    {
      "cell_type": "code",
      "execution_count": null,
      "metadata": {
        "id": "NKPEVBufPsKW",
        "jupyter": {
          "outputs_hidden": false
        }
      },
      "outputs": [],
      "source": [
        "# the int function won't convert a string that looks like a floating point number\n",
        "rent_str = \"2500.00\"\n",
        "rent_int = int(rent_str)"
      ]
    },
    {
      "cell_type": "code",
      "execution_count": null,
      "metadata": {
        "id": "6eMQunH_PsKW",
        "jupyter": {
          "outputs_hidden": false
        }
      },
      "outputs": [],
      "source": [
        "# but you can daisy-chain functions together to conver the string to a float then to an int\n",
        "# the inner function executes then passes its value to the outer function\n",
        "rent_int = int(float(rent_str))\n",
        "rent_int"
      ]
    },
    {
      "cell_type": "code",
      "execution_count": null,
      "metadata": {
        "id": "60ZwgS_dPsKW",
        "jupyter": {
          "outputs_hidden": false
        }
      },
      "outputs": [],
      "source": [
        "# you cannot concatenate a string and a number\n",
        "city = \"Los Angeles \"\n",
        "zip_code = 90089\n",
        "city + zip_code"
      ]
    },
    {
      "cell_type": "code",
      "execution_count": null,
      "metadata": {
        "id": "GtipXtXqPsKW",
        "jupyter": {
          "outputs_hidden": false
        }
      },
      "outputs": [],
      "source": [
        "# so convert the number first, then concatenate\n",
        "city + str(zip_code)"
      ]
    },
    {
      "cell_type": "code",
      "execution_count": null,
      "metadata": {
        "id": "WcxNUNvIPsKW"
      },
      "outputs": [],
      "source": [
        "# now it's your turn\n",
        "# extract the zip code characters from the end of the \"location\" variable and convert to integer"
      ]
    },
    {
      "cell_type": "markdown",
      "metadata": {
        "id": "emiahin2PsKW"
      },
      "source": [
        "## Iterables: Lists, Tuples, Sets"
      ]
    },
    {
      "cell_type": "code",
      "execution_count": null,
      "metadata": {
        "id": "5FJK8bfTPsKW"
      },
      "outputs": [],
      "source": [
        "# first off, tuples are like lists, but immutable (you can't \"edit\" them in place)\n",
        "# they are denoted with parentheses\n",
        "my_tuple = (3, 2, 1, 2)\n",
        "my_tuple"
      ]
    },
    {
      "cell_type": "code",
      "execution_count": null,
      "metadata": {
        "id": "6JALXHW8PsKX"
      },
      "outputs": [],
      "source": [
        "# you can find the sum of an iterable with sum()\n",
        "sum(my_tuple)"
      ]
    },
    {
      "cell_type": "code",
      "execution_count": null,
      "metadata": {
        "id": "Mu6frw0nPsKX"
      },
      "outputs": [],
      "source": [
        "# a set contains only unique values\n",
        "# sets are denoted by curly braces (like dicts)... kinda confusing!\n",
        "set(my_tuple)"
      ]
    },
    {
      "cell_type": "code",
      "execution_count": null,
      "metadata": {
        "id": "8cVrUR7iPsKX"
      },
      "outputs": [],
      "source": [
        "# this is a list\n",
        "my_list = [2, 4, 6, 8]"
      ]
    },
    {
      "cell_type": "code",
      "execution_count": null,
      "metadata": {
        "id": "nBr_eW_2PsKX",
        "jupyter": {
          "outputs_hidden": false
        }
      },
      "outputs": [],
      "source": [
        "# how many elements are in this list?\n",
        "len(my_list)"
      ]
    },
    {
      "cell_type": "code",
      "execution_count": null,
      "metadata": {
        "id": "T4z7zMyYPsKX",
        "jupyter": {
          "outputs_hidden": false
        }
      },
      "outputs": [],
      "source": [
        "# get the zero-th element in a list\n",
        "my_list[0]"
      ]
    },
    {
      "cell_type": "code",
      "execution_count": null,
      "metadata": {
        "id": "H-sLW64rPsKX",
        "jupyter": {
          "outputs_hidden": false
        }
      },
      "outputs": [],
      "source": [
        "# you can update elements in a list because it is mutable\n",
        "my_list[2] = 100\n",
        "my_list"
      ]
    },
    {
      "cell_type": "code",
      "execution_count": null,
      "metadata": {
        "id": "nonqqzKPPsKX",
        "jupyter": {
          "outputs_hidden": false
        }
      },
      "outputs": [],
      "source": [
        "# add a new element with the append() method\n",
        "# lists can hold elements of varying data types\n",
        "my_list.append(\"hello\")\n",
        "my_list"
      ]
    },
    {
      "cell_type": "code",
      "execution_count": null,
      "metadata": {
        "id": "_kd5gl6qPsKX",
        "jupyter": {
          "outputs_hidden": false
        }
      },
      "outputs": [],
      "source": [
        "# you can also add lists to concatenate them\n",
        "[1, 2, 3] + [4, 5, 6]"
      ]
    },
    {
      "cell_type": "markdown",
      "metadata": {
        "id": "sAvacJqKPsKX"
      },
      "source": [
        "## Converting list elements"
      ]
    },
    {
      "cell_type": "code",
      "execution_count": null,
      "metadata": {
        "id": "WL8UlPrLPsKY"
      },
      "outputs": [],
      "source": [
        "# objective: how do we convert a list of integer values into a list of equivalent string values?\n",
        "# in other words, how do we convert each element in a list to a different data type?\n",
        "# first, let's make a list containing the first 5 even numbers\n",
        "int_list = [2, 4, 6, 8, 10]"
      ]
    },
    {
      "cell_type": "code",
      "execution_count": null,
      "metadata": {
        "id": "FOLSlqpePsKY"
      },
      "outputs": [],
      "source": [
        "# how many elements are in our list?\n",
        "len(int_list)"
      ]
    },
    {
      "cell_type": "code",
      "execution_count": null,
      "metadata": {
        "id": "Zwm81_tgPsKY"
      },
      "outputs": [],
      "source": [
        "# what is the value of the element in the zero-th position of the list?\n",
        "int_list[0]"
      ]
    },
    {
      "cell_type": "code",
      "execution_count": null,
      "metadata": {
        "id": "311rvc0mPsKY"
      },
      "outputs": [],
      "source": [
        "# what is the data type of this element in the zero-th position?\n",
        "type(int_list[0])"
      ]
    },
    {
      "cell_type": "code",
      "execution_count": null,
      "metadata": {
        "id": "Q-w6p_6MPsKY"
      },
      "outputs": [],
      "source": [
        "# let's convert that element from an int to a string using the str() function\n",
        "str(int_list[0])"
      ]
    },
    {
      "cell_type": "code",
      "execution_count": null,
      "metadata": {
        "id": "bCxhy5CFPsKY"
      },
      "outputs": [],
      "source": [
        "# let's check the data type that results from that str() function operating on our list element\n",
        "type(str(int_list[0]))"
      ]
    },
    {
      "cell_type": "code",
      "execution_count": null,
      "metadata": {
        "id": "bq7QiL0tPsKY"
      },
      "outputs": [],
      "source": [
        "# now we'll create a new list to contain the string versions of our integers\n",
        "str_list = []"
      ]
    },
    {
      "cell_type": "code",
      "execution_count": null,
      "metadata": {
        "id": "KF-QhgxNPsKY"
      },
      "outputs": [],
      "source": [
        "# now let's convert the element in the zero-th position of our int_list to a string\n",
        "# and append it to the new str_list that will contain string values\n",
        "# remember, the way to add a new element to a list is list.append()\n",
        "# we are simply appending the result of the string conversion\n",
        "str_list.append(str(int_list[0]))"
      ]
    },
    {
      "cell_type": "code",
      "execution_count": null,
      "metadata": {
        "id": "ZfWwpKFMPsKZ"
      },
      "outputs": [],
      "source": [
        "# our str_list should have one element - the value at the zero-th position of int_list, converted to a string\n",
        "str_list"
      ]
    },
    {
      "cell_type": "code",
      "execution_count": null,
      "metadata": {
        "id": "evcmUuWZPsKZ"
      },
      "outputs": [],
      "source": [
        "# looks like that worked, so let's convert and append the rest of the values\n",
        "# we know our int_list contains 5 elements from when we ran len() on it earlier\n",
        "# we've already done position 0, now let's do positions 1 - 4\n",
        "str_list.append(str(int_list[1]))\n",
        "str_list.append(str(int_list[2]))\n",
        "str_list.append(str(int_list[3]))\n",
        "str_list.append(str(int_list[4]))"
      ]
    },
    {
      "cell_type": "code",
      "execution_count": null,
      "metadata": {
        "id": "ZJmv7EQVPsKZ"
      },
      "outputs": [],
      "source": [
        "# let's see our list of strings\n",
        "str_list"
      ]
    },
    {
      "cell_type": "code",
      "execution_count": null,
      "metadata": {
        "id": "jKFJSZy-PsKZ"
      },
      "outputs": [],
      "source": [
        "# and for comparison, here's our original list of integers\n",
        "int_list"
      ]
    },
    {
      "cell_type": "code",
      "execution_count": null,
      "metadata": {
        "id": "t4eHbr27PsKZ"
      },
      "outputs": [],
      "source": [
        "# what we have seen is a manual way of doing this int -> string conversion\n",
        "# the whole benefit of coding is that we automate this sort of manual work\n",
        "# over the next couple of weeks we'll learn more advanced and efficient techniques like this:\n",
        "new_list = []\n",
        "for value in int_list:\n",
        "    new_list.append(str(value))\n",
        "new_list"
      ]
    },
    {
      "cell_type": "code",
      "execution_count": null,
      "metadata": {
        "id": "nNvJLJxwPsKZ"
      },
      "outputs": [],
      "source": [
        "# ...and eventually we'll learn even more advanced/efficient techniques, like this:\n",
        "[str(value) for value in int_list]"
      ]
    },
    {
      "cell_type": "code",
      "execution_count": null,
      "metadata": {
        "id": "HAsMChkkPsKZ"
      },
      "outputs": [],
      "source": [
        "# now you try\n",
        "# write a code snippet to multiply all the items in int_list by 3, then sum the result"
      ]
    },
    {
      "cell_type": "code",
      "execution_count": null,
      "metadata": {
        "id": "wT1vLxI1PsKZ"
      },
      "outputs": [],
      "source": [
        "# now you try\n",
        "# calculate the mean value of int_list"
      ]
    },
    {
      "cell_type": "markdown",
      "metadata": {
        "id": "Ds3prmJdPsKa"
      },
      "source": [
        "## Dictionaries"
      ]
    },
    {
      "cell_type": "code",
      "execution_count": null,
      "metadata": {
        "id": "YGhxhnsVPsKa",
        "jupyter": {
          "outputs_hidden": false
        }
      },
      "outputs": [],
      "source": [
        "antonyms = {\"hot\": \"cold\", \"fast\": \"slow\", \"good\": \"bad\"}\n",
        "antonyms"
      ]
    },
    {
      "cell_type": "code",
      "execution_count": null,
      "metadata": {
        "id": "3R-CzUmoPsKa",
        "jupyter": {
          "outputs_hidden": false
        }
      },
      "outputs": [],
      "source": [
        "# you can access things in a dictionary using its keys\n",
        "antonyms[\"hot\"]"
      ]
    },
    {
      "cell_type": "code",
      "execution_count": null,
      "metadata": {
        "id": "K053fFlIPsKa",
        "jupyter": {
          "outputs_hidden": false
        }
      },
      "outputs": [],
      "source": [
        "# you can update values in a dictionary because it is mutable\n",
        "antonyms[\"hot\"] = \"freezing\"\n",
        "antonyms"
      ]
    },
    {
      "cell_type": "code",
      "execution_count": null,
      "metadata": {
        "id": "jD8VTMmTPsKa",
        "jupyter": {
          "outputs_hidden": false
        }
      },
      "outputs": [],
      "source": [
        "# what are all the keys in this dict?\n",
        "antonyms.keys()"
      ]
    },
    {
      "cell_type": "code",
      "execution_count": null,
      "metadata": {
        "id": "kw9IZCbhPsKa",
        "jupyter": {
          "outputs_hidden": false
        }
      },
      "outputs": [],
      "source": [
        "# what are all the values in this dict?\n",
        "antonyms.values()"
      ]
    },
    {
      "cell_type": "code",
      "execution_count": null,
      "metadata": {
        "id": "LbD2bt5qPsKa"
      },
      "outputs": [],
      "source": [
        "# essentially a list of tuples\n",
        "antonyms.items()"
      ]
    },
    {
      "cell_type": "markdown",
      "metadata": {
        "id": "aHcepp2ZPsKa"
      },
      "source": [
        "## What is a program?"
      ]
    },
    {
      "cell_type": "markdown",
      "metadata": {
        "id": "R6ENcJnBPsKa"
      },
      "source": [
        "As Allen Downey explains in Think Python, the main elements of a program are:\n",
        "\n",
        "**input**: Get data from the keyboard, a ﬁle, or some other device.\n",
        "\n",
        "**output**: Display data on the screen or send data to a ﬁle or other device.\n",
        "\n",
        "**math**: Perform basic mathematical operations like addition and multiplication.\n",
        "\n",
        "**conditional execution**: Check for certain conditions and execute the appropriate code.\n",
        "\n",
        "**repetition**: Perform some action repeatedly, usually with some variation.\n",
        "\n",
        "These are common steps that you will find to be a generic recipe for many programs, whether written in Python or any other language."
      ]
    },
    {
      "cell_type": "code",
      "execution_count": null,
      "metadata": {
        "id": "f1jS3KIKPsKb"
      },
      "outputs": [],
      "source": [
        "# write a short program to calculate the length of the hypotenuse of a right triangle where the other sides have lengths 3 and 4\n",
        "# assign each side's length to its own variable"
      ]
    }
  ],
  "metadata": {
    "colab": {
      "provenance": []
    },
    "kernelspec": {
      "display_name": "ppd534",
      "language": "python",
      "name": "python3"
    },
    "language_info": {
      "codemirror_mode": {
        "name": "ipython",
        "version": 3
      },
      "file_extension": ".py",
      "mimetype": "text/x-python",
      "name": "python",
      "nbconvert_exporter": "python",
      "pygments_lexer": "ipython3",
      "version": "3.13.1"
    }
  },
  "nbformat": 4,
  "nbformat_minor": 0
}