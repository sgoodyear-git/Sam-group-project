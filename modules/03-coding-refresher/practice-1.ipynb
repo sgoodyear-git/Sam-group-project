{
  "cells": [
    {
      "cell_type": "markdown",
      "metadata": {
        "id": "QwW5FMIMTp-U"
      },
      "source": [
        "# Coding Bootcamp I Practice"
      ]
    },
    {
      "cell_type": "code",
      "execution_count": null,
      "metadata": {
        "id": "5bjCINWGTSG-"
      },
      "outputs": [],
      "source": [
        "# in a single line, divide the sum of ninety plus seventy by the product of twelve and eleven"
      ]
    },
    {
      "cell_type": "code",
      "source": [
        "(90 + 70)/(12 * 11)"
      ],
      "metadata": {
        "colab": {
          "base_uri": "https://localhost:8080/"
        },
        "id": "_cYOA6kExu-4",
        "outputId": "5061f5b5-f0f9-494f-b759-01c9c3df64ac"
      },
      "execution_count": 1,
      "outputs": [
        {
          "output_type": "execute_result",
          "data": {
            "text/plain": [
              "1.2121212121212122"
            ]
          },
          "metadata": {},
          "execution_count": 1
        }
      ]
    },
    {
      "cell_type": "code",
      "execution_count": 3,
      "metadata": {
        "id": "pk4AQd9wTvPv"
      },
      "outputs": [],
      "source": [
        "# in a single line, create a new variable z and set it equal to x divided the sum of x plus y\n",
        "x = 10\n",
        "y = 5"
      ]
    },
    {
      "cell_type": "code",
      "source": [
        "z = x/(x+y)"
      ],
      "metadata": {
        "id": "jNZPvpK_x4bU"
      },
      "execution_count": 4,
      "outputs": []
    },
    {
      "cell_type": "code",
      "execution_count": null,
      "metadata": {
        "id": "afeabev0Up-U"
      },
      "outputs": [],
      "source": [
        "# create a new variable called rent and set it equal to 2500\n",
        "# create a new variable called rent_float, from converting rent to a floating point number\n",
        "# create a new variable called rent_str, from converting rent_float to a string"
      ]
    },
    {
      "cell_type": "code",
      "source": [
        "rent = 2500\n",
        "rent_float = float(rent)\n",
        "rent_str = str(rent_float)"
      ],
      "metadata": {
        "id": "LJxV_pdWx-qX"
      },
      "execution_count": 8,
      "outputs": []
    },
    {
      "cell_type": "code",
      "source": [
        "print(type(rent_float))\n",
        "print(type(rent_str))"
      ],
      "metadata": {
        "colab": {
          "base_uri": "https://localhost:8080/"
        },
        "id": "aw_LjcOdywnr",
        "outputId": "0f77cbfa-add2-4d7d-802a-c1abda1b1fd1"
      },
      "execution_count": 11,
      "outputs": [
        {
          "output_type": "stream",
          "name": "stdout",
          "text": [
            "<class 'float'>\n",
            "<class 'str'>\n"
          ]
        }
      ]
    },
    {
      "cell_type": "code",
      "execution_count": null,
      "metadata": {
        "id": "W2npy0gzUCmX"
      },
      "outputs": [],
      "source": [
        "# create a new dict variable containing the individual components of your home address"
      ]
    },
    {
      "cell_type": "code",
      "execution_count": 17,
      "metadata": {
        "id": "WOlqd_tBUG5g"
      },
      "outputs": [],
      "source": [
        "# create a new string from the 1st, 3rd, and 5th characters in location\n",
        "city = \"Los Angeles, CA 90089\""
      ]
    },
    {
      "cell_type": "code",
      "source": [
        "print(city[0, 2, 4])"
      ],
      "metadata": {
        "colab": {
          "base_uri": "https://localhost:8080/"
        },
        "id": "5R3qaXBszpWp",
        "outputId": "a410ac84-1c7a-45de-8148-b5fcc702cb6b"
      },
      "execution_count": 26,
      "outputs": [
        {
          "output_type": "stream",
          "name": "stdout",
          "text": [
            "LsA\n"
          ]
        }
      ]
    },
    {
      "cell_type": "code",
      "source": [
        "next_str = print(city[0:6] + city[8])"
      ],
      "metadata": {
        "colab": {
          "base_uri": "https://localhost:8080/"
        },
        "id": "QD-KmQ0K0d-b",
        "outputId": "b9ab8418-ad3f-4b02-ac0b-8e2f3d088428"
      },
      "execution_count": 29,
      "outputs": [
        {
          "output_type": "stream",
          "name": "stdout",
          "text": [
            "Los Anl\n"
          ]
        }
      ]
    },
    {
      "cell_type": "code",
      "execution_count": null,
      "metadata": {
        "id": "Goy3CKsMUNnn"
      },
      "outputs": [],
      "source": [
        "# extract the zip code characters from the end of the \"location\" variable and convert to integer"
      ]
    },
    {
      "cell_type": "code",
      "source": [
        "int(city[-5:])"
      ],
      "metadata": {
        "colab": {
          "base_uri": "https://localhost:8080/"
        },
        "id": "qfIR-12x0xGH",
        "outputId": "fdff0186-ea1a-4754-e3d3-f4e445a49bee"
      },
      "execution_count": 38,
      "outputs": [
        {
          "output_type": "execute_result",
          "data": {
            "text/plain": [
              "90089"
            ]
          },
          "metadata": {},
          "execution_count": 38
        }
      ]
    },
    {
      "cell_type": "code",
      "execution_count": 39,
      "metadata": {
        "id": "p1Ccg5txUVq5"
      },
      "outputs": [],
      "source": [
        "# write a code snippet to multiply all the items in int_list by 3, then sum the result\n",
        "int_list = [2, 4, 6, 8, 10]"
      ]
    },
    {
      "cell_type": "code",
      "source": [
        "type(int_list)"
      ],
      "metadata": {
        "colab": {
          "base_uri": "https://localhost:8080/"
        },
        "id": "XvH_QROZ6S4Y",
        "outputId": "d64a74cb-aca5-48d8-be97-68aa9ce6acc7"
      },
      "execution_count": 47,
      "outputs": [
        {
          "output_type": "execute_result",
          "data": {
            "text/plain": [
              "list"
            ]
          },
          "metadata": {},
          "execution_count": 47
        }
      ]
    },
    {
      "cell_type": "code",
      "source": [
        "print(list(int_list*3))\n",
        "print(sum(int_list*3))\n",
        "\n"
      ],
      "metadata": {
        "colab": {
          "base_uri": "https://localhost:8080/"
        },
        "id": "lKPdbVk05fU9",
        "outputId": "d9bf3566-3b4f-48ff-c206-2b6e79971e04"
      },
      "execution_count": 64,
      "outputs": [
        {
          "output_type": "stream",
          "name": "stdout",
          "text": [
            "[2, 4, 6, 8, 10, 2, 4, 6, 8, 10, 2, 4, 6, 8, 10]\n",
            "90\n"
          ]
        }
      ]
    },
    {
      "cell_type": "code",
      "execution_count": null,
      "metadata": {
        "id": "mOzHbf9LUVsy"
      },
      "outputs": [],
      "source": [
        "# calculate the mean value of int_list"
      ]
    },
    {
      "cell_type": "code",
      "source": [
        "sum(int_list)/len(int_list)"
      ],
      "metadata": {
        "colab": {
          "base_uri": "https://localhost:8080/"
        },
        "id": "fp2cmZDw5MXa",
        "outputId": "6d2719e3-7580-4aa9-9900-5ba2bfd9be9f"
      },
      "execution_count": 40,
      "outputs": [
        {
          "output_type": "execute_result",
          "data": {
            "text/plain": [
              "6.0"
            ]
          },
          "metadata": {},
          "execution_count": 40
        }
      ]
    },
    {
      "cell_type": "code",
      "execution_count": null,
      "metadata": {
        "id": "LTAScW-DUaAI"
      },
      "outputs": [],
      "source": [
        "# write a short program to calculate the length of the hypotenuse of\n",
        "# a right triangle where the other sides have lengths 3 and 4\n",
        "# assign each side's length to its own variable"
      ]
    },
    {
      "cell_type": "code",
      "execution_count": null,
      "metadata": {
        "id": "2LsASnSUZUcV"
      },
      "outputs": [],
      "source": []
    }
  ],
  "metadata": {
    "colab": {
      "provenance": []
    },
    "kernelspec": {
      "display_name": "Python 3",
      "name": "python3"
    },
    "language_info": {
      "name": "python"
    }
  },
  "nbformat": 4,
  "nbformat_minor": 0
}